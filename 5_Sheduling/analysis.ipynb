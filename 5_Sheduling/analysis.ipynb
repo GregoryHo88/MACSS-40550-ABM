import pandas as pd
import seaborn as sns

#load in data
results = pd.read_csv("/Users/jeanclipperton/Library/CloudStorage/Box-Box/Teaching/ABM_course/MACSS-40550-ABM/5_Sheduling/pd_grid/data/batch_data.csv")

results.head()




